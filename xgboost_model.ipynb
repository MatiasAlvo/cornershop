{
 "cells": [
  {
   "cell_type": "code",
   "execution_count": 14,
   "metadata": {},
   "outputs": [],
   "source": [
    "#Download important modules\n",
    "from sklearn.model_selection import train_test_split\n",
    "from sklearn.ensemble import RandomForestRegressor\n",
    "from sklearn.metrics import mean_absolute_error\n",
    "from sklearn.model_selection import RandomizedSearchCV, GridSearchCV\n",
    "from matplotlib import pyplot as plt\n",
    "import seaborn as sb\n",
    "import matplotlib.pyplot as plt\n",
    "import pandas as pd\n",
    "import numpy as np\n",
    "import warnings \n",
    "warnings.filterwarnings('ignore')\n",
    "warnings.filterwarnings('ignore', category=DeprecationWarning)\n",
    "from xgboost import XGBRegressor\n",
    "import pandas as pd\n",
    "import pickle"
   ]
  },
  {
   "cell_type": "code",
   "execution_count": 2,
   "metadata": {},
   "outputs": [],
   "source": [
    "#Retrieve the data\n",
    "x_train = pd.read_pickle(\"data/train_x.pkl\")\n",
    "x_val = pd.read_pickle(\"data/val_x.pkl\")\n",
    "x_test = pd.read_pickle(\"data/test_x.pkl\")\n",
    "x_nulls = pd.read_pickle(\"data/x_nulls.pkl\")\n",
    "\n",
    "y_train = pd.read_pickle(\"data/train_y.pkl\")\n",
    "y_val = pd.read_pickle(\"data/val_y.pkl\")\n",
    "y_test = pd.read_pickle(\"data/test_y.pkl\")\n",
    "y_nulls = pd.read_pickle(\"data/y_nulls.pkl\")"
   ]
  },
  {
   "cell_type": "code",
   "execution_count": 3,
   "metadata": {},
   "outputs": [],
   "source": [
    "#Define performance function\n",
    "def model_performance(model, x_train, y_train, x_val, y_val, x_test=None, y_test=None, include_test=False):\n",
    "    prediction_train = model.predict(x_train)\n",
    "    mae_train = mean_absolute_error(y_train , prediction_train)\n",
    "    prediction_val = model.predict(x_val)\n",
    "    mae_val = mean_absolute_error(y_val , prediction_val)\n",
    "    prediction_test = model.predict(x_test)\n",
    "\n",
    "    print('Model train MAE = ', mae_train)\n",
    "    print('Model validation MAE = ', mae_val)\n",
    "    if include_test:\n",
    "        mae_test = mean_absolute_error(y_test , prediction_test)\n",
    "        print('Model test MAE = ', mae_test)"
   ]
  },
  {
   "cell_type": "code",
   "execution_count": 4,
   "metadata": {},
   "outputs": [
    {
     "name": "stdout",
     "output_type": "stream",
     "text": [
      "[12:53:33] WARNING: src/objective/regression_obj.cu:152: reg:linear is now deprecated in favor of reg:squarederror.\n"
     ]
    },
    {
     "data": {
      "text/plain": [
       "XGBRegressor(base_score=0.5, booster='gbtree', colsample_bylevel=1,\n",
       "       colsample_bynode=1, colsample_bytree=1, gamma=0,\n",
       "       importance_type='gain', learning_rate=0.1, max_delta_step=0,\n",
       "       max_depth=3, min_child_weight=1, missing=None, n_estimators=100,\n",
       "       n_jobs=1, nthread=None, objective='reg:linear', random_state=0,\n",
       "       reg_alpha=0, reg_lambda=1, scale_pos_weight=1, seed=None,\n",
       "       silent=None, subsample=1, verbosity=1)"
      ]
     },
     "execution_count": 4,
     "metadata": {},
     "output_type": "execute_result"
    }
   ],
   "source": [
    "#Fit the model\n",
    "model = XGBRegressor()\n",
    "model.fit(x_train,y_train)"
   ]
  },
  {
   "cell_type": "code",
   "execution_count": 5,
   "metadata": {},
   "outputs": [
    {
     "name": "stdout",
     "output_type": "stream",
     "text": [
      "Model train MAE =  16.86612792444182\n",
      "Model validation MAE =  17.479989334905248\n"
     ]
    }
   ],
   "source": [
    "#Some overfitting, so lets try tuning the hyperparameters\n",
    "model_performance(model, x_train, y_train, x_val, y_val, x_test, y_test, include_test=False)"
   ]
  },
  {
   "cell_type": "code",
   "execution_count": 6,
   "metadata": {},
   "outputs": [
    {
     "name": "stdout",
     "output_type": "stream",
     "text": [
      "Fitting 3 folds for each of 50 candidates, totalling 150 fits\n"
     ]
    },
    {
     "name": "stderr",
     "output_type": "stream",
     "text": [
      "[Parallel(n_jobs=-1)]: Using backend LokyBackend with 4 concurrent workers.\n",
      "[Parallel(n_jobs=-1)]: Done  33 tasks      | elapsed:  1.8min\n",
      "[Parallel(n_jobs=-1)]: Done 150 out of 150 | elapsed:  6.4min finished\n"
     ]
    },
    {
     "name": "stdout",
     "output_type": "stream",
     "text": [
      "[13:00:24] WARNING: src/objective/regression_obj.cu:152: reg:linear is now deprecated in favor of reg:squarederror.\n"
     ]
    },
    {
     "data": {
      "text/plain": [
       "RandomizedSearchCV(cv=3, error_score='raise-deprecating',\n",
       "          estimator=XGBRegressor(base_score=0.5, booster='gbtree', colsample_bylevel=1,\n",
       "       colsample_bynode=1, colsample_bytree=1, gamma=0,\n",
       "       importance_type='gain', learning_rate=0.1, max_delta_step=0,\n",
       "       max_depth=3, min_child_weight=1, missing=None, n_estimators=100,\n",
       "       n_jobs=1, nthread=None, objective='reg:linear', random_state=0,\n",
       "       reg_alpha=0, reg_lambda=1, scale_pos_weight=1, seed=None,\n",
       "       silent=None, subsample=1, verbosity=1),\n",
       "          fit_params=None, iid='warn', n_iter=50, n_jobs=-1,\n",
       "          param_distributions={'eta': [0.05, 0.1, 0.15, 0.2, 0.3], 'max_depth': [3, 5, 8, 12, 15], 'min_child_weight': [1, 3, 5, 7], 'gamma': [0.0, 0.1, 0.2, 0.4], 'colsample_bytree': [0.3, 0.4, 0.5, 0.7]},\n",
       "          pre_dispatch='2*n_jobs', random_state=30, refit=True,\n",
       "          return_train_score='warn', scoring='neg_mean_absolute_error',\n",
       "          verbose=2)"
      ]
     },
     "execution_count": 6,
     "metadata": {},
     "output_type": "execute_result"
    }
   ],
   "source": [
    "#First do a random grid search, and then refine the search when we know best possible values\n",
    "random_grid = {\n",
    "     \"eta\"    : [0.05, 0.10, 0.15, 0.20, 0.30 ] ,\n",
    "     \"max_depth\"        : [ 3, 5, 8, 12, 15],\n",
    "     \"min_child_weight\" : [ 1, 3, 5, 7 ],\n",
    "     \"gamma\"            : [ 0.0, 0.1, 0.2 , 0.4 ],\n",
    "     \"colsample_bytree\" : [ 0.3, 0.4, 0.5 , 0.7 ]\n",
    "     }\n",
    "\n",
    "model_2 = XGBRegressor()\n",
    "xgboost_random = RandomizedSearchCV(estimator = model_2, param_distributions = random_grid, n_iter = 50, \n",
    "                               cv = 3, verbose=2, random_state= 30, n_jobs = -1, scoring=\"neg_mean_absolute_error\")\n",
    "xgboost_random.fit(x_train, y_train)"
   ]
  },
  {
   "cell_type": "code",
   "execution_count": 7,
   "metadata": {},
   "outputs": [
    {
     "name": "stdout",
     "output_type": "stream",
     "text": [
      "{'min_child_weight': 3, 'max_depth': 3, 'gamma': 0.0, 'eta': 0.05, 'colsample_bytree': 0.7}\n",
      "Model train MAE =  16.80219102760765\n",
      "Model validation MAE =  17.537460270734627\n",
      "Model test MAE =  18.00076711157307\n"
     ]
    }
   ],
   "source": [
    "#Get the best parameters so far\n",
    "print(xgboost_random.best_params_)\n",
    "\n",
    "#Evaluate the new model\n",
    "best_model = xgboost_random.best_estimator_\n",
    "model_performance(best_model, x_train, y_train, x_val, y_val, x_test, y_test, include_test=True)"
   ]
  },
  {
   "cell_type": "code",
   "execution_count": 8,
   "metadata": {},
   "outputs": [
    {
     "name": "stdout",
     "output_type": "stream",
     "text": [
      "Fitting 5 folds for each of 81 candidates, totalling 405 fits\n"
     ]
    },
    {
     "name": "stderr",
     "output_type": "stream",
     "text": [
      "[Parallel(n_jobs=-1)]: Using backend LokyBackend with 4 concurrent workers.\n",
      "[Parallel(n_jobs=-1)]: Done  33 tasks      | elapsed:   48.0s\n",
      "[Parallel(n_jobs=-1)]: Done 154 tasks      | elapsed:  3.7min\n",
      "[Parallel(n_jobs=-1)]: Done 357 tasks      | elapsed:  8.7min\n",
      "[Parallel(n_jobs=-1)]: Done 405 out of 405 | elapsed: 10.0min finished\n"
     ]
    },
    {
     "name": "stdout",
     "output_type": "stream",
     "text": [
      "[13:13:34] WARNING: src/objective/regression_obj.cu:152: reg:linear is now deprecated in favor of reg:squarederror.\n"
     ]
    },
    {
     "data": {
      "text/plain": [
       "GridSearchCV(cv=5, error_score='raise-deprecating',\n",
       "       estimator=XGBRegressor(base_score=0.5, booster='gbtree', colsample_bylevel=1,\n",
       "       colsample_bynode=1, colsample_bytree=1, gamma=0,\n",
       "       importance_type='gain', learning_rate=0.1, max_delta_step=0,\n",
       "       max_depth=3, min_child_weight=1, missing=None, n_estimators=100,\n",
       "       n_jobs=1, nthread=None, objective='reg:linear', random_state=0,\n",
       "       reg_alpha=0, reg_lambda=1, scale_pos_weight=1, seed=None,\n",
       "       silent=None, subsample=1, verbosity=1),\n",
       "       fit_params=None, iid='warn', n_jobs=-1,\n",
       "       param_grid={'eta': [0.0, 0.025, 0.05], 'max_depth': [2, 3, 4], 'min_child_weight': [2, 3, 4], 'gamma': [0.0, 0.03, 0.06], 'colsample_bytree': [0.7]},\n",
       "       pre_dispatch='2*n_jobs', refit=True, return_train_score='warn',\n",
       "       scoring='neg_mean_absolute_error', verbose=2)"
      ]
     },
     "execution_count": 8,
     "metadata": {},
     "output_type": "execute_result"
    }
   ],
   "source": [
    "#Refine the search in a grid search\n",
    "grid = {\n",
    "     \"eta\"    : [0.0, 0.025, 0.05] ,\n",
    "     \"max_depth\"        : [ 2,3,4],\n",
    "     \"min_child_weight\" : [ 2, 3, 4 ],\n",
    "     \"gamma\"            : [ 0.0, 0.03, 0.06 ],\n",
    "     \"colsample_bytree\" : [ 0.7 ]\n",
    "     }\n",
    "\n",
    "model_3 = XGBRegressor()\n",
    "xgboost_grid = GridSearchCV(model_3, grid, \n",
    "                               cv = 5, verbose=2, n_jobs = -1, scoring=\"neg_mean_absolute_error\")\n",
    "xgboost_grid.fit(x_train, y_train)"
   ]
  },
  {
   "cell_type": "code",
   "execution_count": 11,
   "metadata": {},
   "outputs": [
    {
     "name": "stdout",
     "output_type": "stream",
     "text": [
      "{'colsample_bytree': 0.7, 'eta': 0.0, 'gamma': 0.0, 'max_depth': 4, 'min_child_weight': 2}\n",
      "Model train MAE =  16.088280873013197\n",
      "Model validation MAE =  17.418176263240774\n"
     ]
    }
   ],
   "source": [
    "#Get best parameters so far\n",
    "print(xgboost_grid.best_params_)\n",
    "\n",
    "#Evaluate the new model\n",
    "grid_model = xgboost_grid.best_estimator_\n",
    "model_performance(grid_model, x_train, y_train, x_val, y_val, x_test, y_test, include_test=False)"
   ]
  },
  {
   "cell_type": "code",
   "execution_count": 10,
   "metadata": {},
   "outputs": [
    {
     "name": "stdout",
     "output_type": "stream",
     "text": [
      "Mean absolute error in test set :  17.999291074620853\n"
     ]
    }
   ],
   "source": [
    "#Reported mean absolute error of 18.0\n",
    "test_predictions = model.predict(x_test)\n",
    "mae_test = mean_absolute_error(y_test,test_predictions)\n",
    "print('Mean absolute error in test set : ', mae_test)"
   ]
  },
  {
   "cell_type": "code",
   "execution_count": 12,
   "metadata": {},
   "outputs": [],
   "source": [
    "#Dump the predictions\n",
    "with open(\"predictions/xgboost.csv\", \"w\") as f:\n",
    "    predictions = model.predict(x_nulls)\n",
    "    [f.write(\"{}, {}\\n\".format(i,j)) for (i,j) in zip(y_nulls.order_id, predictions)]"
   ]
  },
  {
   "cell_type": "code",
   "execution_count": 16,
   "metadata": {},
   "outputs": [],
   "source": [
    "#Dump the model\n",
    "pickle.dump(best_model, open(\"models_dump/xgboost.sav\", 'wb'))"
   ]
  },
  {
   "cell_type": "code",
   "execution_count": null,
   "metadata": {},
   "outputs": [],
   "source": []
  }
 ],
 "metadata": {
  "kernelspec": {
   "display_name": "Python 3",
   "language": "python",
   "name": "python3"
  },
  "language_info": {
   "codemirror_mode": {
    "name": "ipython",
    "version": 3
   },
   "file_extension": ".py",
   "mimetype": "text/x-python",
   "name": "python",
   "nbconvert_exporter": "python",
   "pygments_lexer": "ipython3",
   "version": "3.7.2"
  }
 },
 "nbformat": 4,
 "nbformat_minor": 2
}
