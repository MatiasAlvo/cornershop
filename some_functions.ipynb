{
 "cells": [
  {
   "cell_type": "code",
   "execution_count": 1,
   "metadata": {},
   "outputs": [],
   "source": [
    "def model_performance(model, x_train, y_train, x_val, y_val, x_test=None, y_test=None, include_test=False):\n",
    "    prediction_train = model.predict(x_train)\n",
    "    mae_train = mean_absolute_error(y_train , prediction_train)\n",
    "    prediction_val = model.predict(x_val)\n",
    "    mae_val = mean_absolute_error(y_val , prediction_val)\n",
    "    prediction_test = model.predict(x_test)\n",
    "\n",
    "    print('Model train MAE = ', mae_train)\n",
    "    print('Model validation MAE = ', mae_val)\n",
    "    if include_test:\n",
    "        mae_test = mean_absolute_error(y_test , prediction_test)\n",
    "        print('Model test MAE = ', mae_test)"
   ]
  },
  {
   "cell_type": "code",
   "execution_count": null,
   "metadata": {},
   "outputs": [],
   "source": []
  }
 ],
 "metadata": {
  "kernelspec": {
   "display_name": "Python 3",
   "language": "python",
   "name": "python3"
  },
  "language_info": {
   "codemirror_mode": {
    "name": "ipython",
    "version": 3
   },
   "file_extension": ".py",
   "mimetype": "text/x-python",
   "name": "python",
   "nbconvert_exporter": "python",
   "pygments_lexer": "ipython3",
   "version": "3.7.2"
  }
 },
 "nbformat": 4,
 "nbformat_minor": 2
}
